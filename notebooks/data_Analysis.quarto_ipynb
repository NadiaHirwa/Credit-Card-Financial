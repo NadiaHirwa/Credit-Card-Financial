{
  "cells": [
    {
      "cell_type": "markdown",
      "metadata": {},
      "source": [
        "---\n",
        "title: Credit Card Financial Dataset - Exploratory and Descriptive Analysis\n",
        "author:\n",
        "  - name: \"Nadia Iradukunda Hirwa\"\n",
        "    affiliation: \"Junior Data Analyst\"\n",
        "  - name: \"Jedidah Jah Uwiwe\"\n",
        "    affiliation: \"Junior Data Analyst\"\n",
        "\n",
        "date: \"2025-06-25\"\n",
        "format: \n",
        "  html:\n",
        "    page-layout: full\n",
        "    self-contained: true\n",
        "    code-fold: true\n",
        "    code-tools: true\n",
        "    code-block-bg: true\n",
        "    code-block-border-left: \"#31BAE9\"\n",
        "    number-sections: true\n",
        "    number-tables: true\n",
        "    toc: true\n",
        "    toc-location: left\n",
        "    toc-title: Contents\n",
        "jupyter: python3\n",
        "---\n",
        "\n",
        "In this notebook, we perform an extensive exploratory and descriptive analysis of a credit card financial dataset, with the objective of uncovering behavioral and demographic patterns that influence credit usage, delinquency, and customer satisfaction.\n",
        "\n",
        "This analytical phase is critical for understanding the underlying structure of the data, validating data quality, and generating insights that inform downstream decision-making and modeling strategies. Through a combination of descriptive statistics and interactive visualizations, we analyze customer profiles, credit card usage behaviors, financial metrics, and satisfaction levels.\n",
        "\n",
        "The analysis covers key topics such as customer distribution by marital status, credit card activation trends, average interest earned across card types, delinquency by state, and customer breakdowns by `job`, `gender`, and `satisfaction score`. Each visualization is tailored to enhance interpretability and support business or operational decision-making.\n",
        "\n",
        "\n",
        "We begin by importing the necessary Python libraries:\n",
        "\n",
        "- `pandas`: for data manipulation, transformation, and tabular exploration.\n",
        "\n",
        "- `numpy`: for numerical operations and efficient array handling.\n",
        "\n",
        "- `os`: to manage file paths and export analysis outputs.\n",
        "\n",
        "- `plotly.express`: for building clean, publication-ready interactive charts.\n",
        "\n",
        "- `seaborn`: for creating visually appealing statistical plots with built-in themes and functions for complex visualizations like heatmaps, box plots, and categorical plots.\n",
        "\n",
        "- `matplotlib.pyplot`: for customizing and controlling visual elements in plots; used alongside Seaborn or alone for static, publication-quality charts.\n",
        "\n",
        "warnings: to suppress unnecessary runtime warnings for cleaner outputs.\n",
        "\n",
        "This notebook lays the foundation for deeper statistical modeling and dashboard reporting by providing a clear and structured view of the data’s characteristics and trends."
      ],
      "id": "9e2c2664"
    },
    {
      "cell_type": "code",
      "metadata": {},
      "source": [
        "# Import libraries \n",
        "import os\n",
        "import pandas as pd\n",
        "import numpy as np\n",
        "import plotly.express as px\n",
        "import seaborn as sns\n",
        "import matplotlib.pyplot as plt"
      ],
      "id": "7d945c67",
      "execution_count": null,
      "outputs": []
    },
    {
      "cell_type": "markdown",
      "metadata": {},
      "source": [
        "## Define and Create Directory Paths\n",
        "\n",
        "To ensure reproducibility and organized storage, we programmatically create directories if they don't already exist for:\n",
        "\n",
        "- **raw data**\n",
        "- **processed data**\n",
        "- **results**\n",
        "- **documentation**\n",
        "\n",
        "These directories will store intermediate and final outputs for reproducibility."
      ],
      "id": "ada78adb"
    },
    {
      "cell_type": "code",
      "metadata": {},
      "source": [
        "#| echo: false\n",
        "#Get working directory\n",
        "current_dir = os.getcwd()\n",
        "#go one directory up to root directory\n",
        "project_root_dir = os.path.dirname(current_dir)\n",
        "#Define path to data files\n",
        "data_dir = os.path.join(project_root_dir, 'data')\n",
        "raw_dir = os.path.join(data_dir, 'raw')\n",
        "processed_dir = os.path.join(data_dir, 'processed')\n",
        "#Define path to results folder\n",
        "results_dir = os.path.join(project_root_dir, 'results')\n",
        "#Define path to results folder\n",
        "docs_dir = os.path.join(project_root_dir, 'docs')\n",
        "\n",
        "#Create directories if they do not exist\n",
        "os.makedirs(raw_dir, exist_ok=True)\n",
        "os.makedirs(processed_dir, exist_ok=True)\n",
        "os.makedirs(results_dir, exist_ok=True)\n",
        "os.makedirs(docs_dir, exist_ok=True)"
      ],
      "id": "9df9e013",
      "execution_count": null,
      "outputs": []
    },
    {
      "cell_type": "markdown",
      "metadata": {},
      "source": [
        "## Loading the Cleaned Dataset\n",
        "We load the cleaned version of the Credit Card Financial Dataset from the data/processed/ directory into a Pandas DataFrame. This dataset contains customer-level information including demographic attributes, financial activity, credit usage behavior, and satisfaction metrics.\n",
        "\n",
        "The first ten records are displayed using the `head(5)` function to provide a preview of key columns such as `Client_Num`, `Card_Category`, `Annual_Fees`, `Credit_Limit`, `Total_Trans_Amt`, `Cust_Satisfaction_Score`.... This initial view helps confirm successful loading and gives a quick look at the structure and content of the cleaned dataset.\n",
        "\n",
        "\n",
        "::: {.panel-tabset}\n",
        "## Output {.active}"
      ],
      "id": "c03d2c63"
    },
    {
      "cell_type": "code",
      "metadata": {},
      "source": [
        "#| label: Credit_Card_Financial\n",
        "#| tbl-cap: Credit Card Financial Dataset\n",
        "\n",
        "merged_data_filename = os.path.join(processed_dir, \"Credit_Card_Financial.csv\")\n",
        "merged_df = pd.read_csv(merged_data_filename)\n",
        "merged_df.head(5)"
      ],
      "id": "Credit_Card_Financial",
      "execution_count": null,
      "outputs": []
    },
    {
      "cell_type": "markdown",
      "metadata": {},
      "source": [
        "## Code"
      ],
      "id": "f29bf765"
    },
    {
      "cell_type": "code",
      "metadata": {},
      "source": [
        "#| output: false\n",
        "merged_data_filename = os.path.join(processed_dir, \"Credit_Card_Financial.csv\")\n",
        "merged_df = pd.read_csv(merged_data_filename)"
      ],
      "id": "584f4ad8",
      "execution_count": null,
      "outputs": []
    },
    {
      "cell_type": "markdown",
      "metadata": {},
      "source": [
        ":::"
      ],
      "id": "45d30c45"
    },
    {
      "cell_type": "code",
      "metadata": {},
      "source": [
        "#| output: false\n",
        "#| echo: false\n",
        "merged_df.columns"
      ],
      "id": "50473c9e",
      "execution_count": null,
      "outputs": []
    },
    {
      "cell_type": "markdown",
      "metadata": {},
      "source": [
        "## Dataset Dimensions and Data Types\n",
        "\n",
        "Here, we examine the structure of the dataset:\n",
        "\n",
        "- There are *10, 108* entries and *31* variables.\n",
        "- The dataset includes both **numerical** (e.g., `Client_Num`, `Annual_Fees`) and **categorical** variables (e.g., `Card_Category`, `Gender`).\n",
        "\n",
        "Understanding data types and null entries is essential before proceeding with analysis."
      ],
      "id": "587c19bd"
    },
    {
      "cell_type": "code",
      "metadata": {},
      "source": [
        "#| echo: false\n",
        "#| output: false\n",
        "merged_df.shape"
      ],
      "id": "7b9953a6",
      "execution_count": null,
      "outputs": []
    },
    {
      "cell_type": "code",
      "metadata": {},
      "source": [
        "#| echo: false\n",
        "#| output: false\n",
        "merged_df.info"
      ],
      "id": "cfe7f486",
      "execution_count": null,
      "outputs": []
    },
    {
      "cell_type": "code",
      "metadata": {},
      "source": [
        "#| label: tbl-dataset-overview\n",
        "#| tbl-cap: Overview of dataset columns, their data types, and the count of missing values in each column.\n",
        "summary_df = pd.DataFrame({\n",
        "    'Column': merged_df.columns,\n",
        "    'Data Type': merged_df.dtypes.values,\n",
        "    'Missing Values': merged_df.isnull().sum().values\n",
        "})\n",
        "summary_df"
      ],
      "id": "tbl-dataset-overview",
      "execution_count": null,
      "outputs": []
    },
    {
      "cell_type": "markdown",
      "metadata": {},
      "source": [
        "## Summary Statistics: Numerical Variables"
      ],
      "id": "38a954e1"
    },
    {
      "cell_type": "code",
      "metadata": {},
      "source": [
        "#| label: tbl-summary-numerical\n",
        "#| tbl-cap: Summary statistics for numerical variables in the dataset, including count, mean, standard deviation, min, and quartile values.\n",
        "merged_df.describe()"
      ],
      "id": "tbl-summary-numerical",
      "execution_count": null,
      "outputs": []
    },
    {
      "cell_type": "markdown",
      "metadata": {},
      "source": [
        "This summary provides a snapshot of key distribution characteristics.\n",
        "\n",
        "We see that annual fees range from $95 to $500, with a mean of $291.85 and a median of $295. The distribution appears approximately symmetrical, centered around common fee brackets, suggesting a standardized pricing structure across products. The upper range could reflect premium services or high-tier customers.\n",
        "\n",
        "The activation within 30 days is a binary variable, and the mean of 0.57 indicates that about 57% of customers activated their accounts promptly. This majority suggests either strong onboarding or incentives driving early engagement.\n",
        "\n",
        "Customer acquisition costs range from $40 to $172, with an average of $96.25. While the median is close to the mean at $95, the standard deviation of $25.77 suggests moderate variation in marketing or sales strategies. The higher end may reflect targeted campaigns for premium customer segments.\n",
        "\n",
        "All records come from the year 2023, ensuring temporal consistency and simplifying trend comparisons.\n",
        "\n",
        "The credit limit distribution is notably right-skewed. Limits range from $1,438 to $34,516, with a mean of $8,635 and a median of $4,549. This substantial gap implies that while most customers have modest limits, a small segment enjoys significantly higher lines of credit, potentially due to higher incomes or credit scores.\n",
        "\n",
        "Total revolving balances and utilization ratios also exhibit right-skewness. The average revolving balance is $1,162.79, and the average utilization is 27.5%, though a portion of customers reach full utilization (max = 99.9%). This pattern is typical in credit datasets, where most users maintain moderate usage, but some hover near or at the limit, signaling financial stress or high spending behavior.\n",
        "\n",
        "Total transaction amounts average $4,404.63, with a wide spread (up to $18,484), indicating variability in spending patterns. Transaction volumes range from 10 to 139, with a median of 67, aligning with moderate monthly use and consistent card engagement.\n",
        "\n",
        "Interest earned also reveals financial diversity. The average is $775.96, but values go up to $4,785, implying some customers are carrying balances over time, while others pay off promptly and avoid interest.\n",
        "\n",
        "The delinquency rate is low, with only about 6% of customers having a delinquent account. This suggests relatively healthy repayment behavior in the majority of the sample.\n",
        "\n",
        "Customers report an average of 2.35 dependents, ranging up to 5, with the most common values between 1 and 3. This distribution supports a demographic base consisting of family households.\n",
        "\n",
        "Income is perhaps the most skewed feature. It spans from $1,250 to $239,791, with a mean of $56,976 and median near $44,768. This implies income inequality in the sample, with a small number of high earners pulling up the average. The majority earn below $76K, with a significant concentration in the lower brackets.\n",
        "\n",
        "Finally, customer satisfaction scores range from 1 (low) to 5 (high), with an average of 3.19. This moderate central tendency suggests generally neutral-to-positive feedback, but with room for improvement. The distribution’s standard deviation of 1.26 shows variation in experience across customer segments.\n",
        "\n",
        "## Summary Statistics: Categorical Variables"
      ],
      "id": "8f5da328"
    },
    {
      "cell_type": "code",
      "metadata": {},
      "source": [
        "#| label: tbl-summary-categorical\n",
        "#| tbl-cap: Summary statistics for categorical variables in the dataset, including the number of unique values, most frequent category (top), and its frequency (freq).\n",
        "#| echo: false\n",
        "#| output: false\n",
        "merged_df.describe(include='object')"
      ],
      "id": "tbl-summary-categorical",
      "execution_count": null,
      "outputs": []
    },
    {
      "cell_type": "markdown",
      "metadata": {},
      "source": [
        "`Gender`"
      ],
      "id": "776eda42"
    },
    {
      "cell_type": "code",
      "metadata": {},
      "source": [
        "#| label: tbl-Gender-distribution\n",
        "#| tbl-cap: Distribution of the `Gender` variable showing the proportion of each unique Gender within the dataset.\n",
        "merged_df['Gender'].value_counts(normalize=True).rename_axis('unique values').reset_index(name='proportion')"
      ],
      "id": "tbl-Gender-distribution",
      "execution_count": null,
      "outputs": []
    },
    {
      "cell_type": "markdown",
      "metadata": {},
      "source": [
        "The dataset shows that 58.17% of the customers are female, while 41.83% are male. This indicates a higher representation of female credit card holders in the data. Such a distribution could suggest that women are either more likely to use the credit card services offered by this institution or are better represented in the customer base. Understanding this gender balance is important for designing personalized financial products, marketing strategies, and improving customer satisfaction\n",
        "\n",
        "`Card_Category`"
      ],
      "id": "47dd9ea3"
    },
    {
      "cell_type": "code",
      "metadata": {},
      "source": [
        "#| label: tbl-Card-Category-distribution\n",
        "#| tbl-cap: Proportion of each category in the `Card_Category` variable.\n",
        "merged_df['Card_Category'].value_counts(normalize=True).rename_axis('unique values').reset_index(name='proportion')"
      ],
      "id": "tbl-Card-Category-distribution",
      "execution_count": null,
      "outputs": []
    },
    {
      "cell_type": "markdown",
      "metadata": {},
      "source": [
        "The majority of customers—91.16%—hold a Blue card, making it the most common card category by far. Silver cards account for 6.32%, while Gold and Platinum cards represent just 1.86% and 0.66% respectively.\n",
        "This distribution suggests that most customers are enrolled in entry-level or standard credit card programs. Premium cards like Gold and Platinum are significantly less common, likely due to stricter eligibility criteria or targeted offerings for high-income or high-credit-score individuals. This insight can help institutions reassess product penetration and evaluate the success of their premium card promotions.\n",
        "\n",
        "`Marital_Status`"
      ],
      "id": "5f5a4b70"
    },
    {
      "cell_type": "code",
      "metadata": {},
      "source": [
        "#| label: tbl-Marital-Status-distribution\n",
        "#| tbl-cap: Proportion of each category in the `Marital_Status` variable.\n",
        "merged_df['Marital_Status'].value_counts(normalize=True).rename_axis('unique values').reset_index(name='proportion')"
      ],
      "id": "tbl-Marital-Status-distribution",
      "execution_count": null,
      "outputs": []
    },
    {
      "cell_type": "markdown",
      "metadata": {},
      "source": [
        "The data shows that 50.73% of the customers are married, while 41.91% are single. A smaller portion, 7.36%, have their marital status listed as unknown.\n",
        "This suggests that over half of the customer base is in committed relationships, which could influence financial behaviors such as joint spending, credit sharing, or long-term financial planning. The relatively high percentage of single individuals also indicates a significant market segment for independent financial products. The presence of unknown entries may point to missing data or customers opting not to disclose personal details.\n",
        "\n",
        "`Education_Level`"
      ],
      "id": "88a72fb5"
    },
    {
      "cell_type": "code",
      "metadata": {},
      "source": [
        "#| label: tbl-Education-Level-distribution\n",
        "#| tbl-cap: Proportion of each category in the `Education_Level` variable.\n",
        "merged_df['Education_Level'].value_counts(normalize=True).rename_axis('unique values').reset_index(name='proportion')"
      ],
      "id": "tbl-Education-Level-distribution",
      "execution_count": null,
      "outputs": []
    },
    {
      "cell_type": "markdown",
      "metadata": {},
      "source": [
        "The largest portion of customers—40.90%—are graduates, followed by 19.88% with a high school education. Notably, 14.99% of the data falls under unknown, and 14.67% of customers are uneducated. Higher education levels, such as post-graduate and doctorate, account for 5.10% and 4.46% respectively.\n",
        "This indicates that the majority of the customer base has at least a college education, which could correlate with more stable income levels and credit behavior. However, the sizable unknown and uneducated segments suggest the need for inclusive financial services and possible improvement in data collection practices.\n",
        "\n",
        "`Cust_Satisfaction_Score`"
      ],
      "id": "2ead2e46"
    },
    {
      "cell_type": "code",
      "metadata": {},
      "source": [
        "#| label: tbl-Customer-Satisfaction-Score-distribution\n",
        "#| tbl-cap: Proportion of each category in the `Cust_Satisfaction_Score` variable.\n",
        "merged_df['Cust_Satisfaction_Score'].value_counts(normalize=True).rename_axis('unique values').reset_index(name='proportion')"
      ],
      "id": "tbl-Customer-Satisfaction-Score-distribution",
      "execution_count": null,
      "outputs": []
    },
    {
      "cell_type": "markdown",
      "metadata": {},
      "source": [
        "The most common satisfaction score is 3, making up 30.35% of the customers, followed by scores of 4 (20.77%) and 5 (19.55%). Lower satisfaction levels are less frequent, with 17.73% of customers rating 2, and only 11.60% giving the lowest score of 1.\n",
        "This distribution shows that most customers are moderately satisfied, but there is a nearly even split between higher (4–5) and lower (1–2) satisfaction scores. The presence of significant dissatisfaction (nearly 30%) highlights opportunities for improving customer experience, while the strong presence of mid-to-high scores shows potential for customer retention if services are optimized.\n",
        "\n",
        "##  Key Insights"
      ],
      "id": "26ed960b"
    },
    {
      "cell_type": "code",
      "metadata": {},
      "source": [
        "#| echo: false\n",
        "#| output: false\n",
        "average_income = merged_df[\"Income\"].mean()\n",
        "print(\"Average Income:\", round(average_income, 2))"
      ],
      "id": "036abe75",
      "execution_count": null,
      "outputs": []
    },
    {
      "cell_type": "markdown",
      "metadata": {},
      "source": [
        "This indicates that on average, customers in the dataset earn around $56,976 annually. This relatively moderate income level suggests a mostly middle-income customer base. Financial institutions can use this figure to tailor credit products and services that align with average earning capacity."
      ],
      "id": "3a82a4e8"
    },
    {
      "cell_type": "code",
      "metadata": {},
      "source": [
        "#| echo: false\n",
        "#| output: false\n",
        "total_customers = merged_df[\"Client_Num\"].nunique()\n",
        "print(\"Total Customers:\", total_customers)"
      ],
      "id": "f25f92c3",
      "execution_count": null,
      "outputs": []
    },
    {
      "cell_type": "markdown",
      "metadata": {},
      "source": [
        "The dataset contains information on 10,108 customers, offering a substantial sample size for analysis. This ensures a diverse representation of demographics, occupations, and behaviors, making any derived patterns or trends more reliable and insightful for business decisions."
      ],
      "id": "da774f1f"
    },
    {
      "cell_type": "code",
      "metadata": {},
      "source": [
        "#| echo: false\n",
        "#| output: false\n",
        "avg_credit_limit = merged_df[\"Credit_Limit\"].mean()\n",
        "print(\"Average Credit Limit:\", round(avg_credit_limit, 2))"
      ],
      "id": "cfe55870",
      "execution_count": null,
      "outputs": []
    },
    {
      "cell_type": "markdown",
      "metadata": {},
      "source": [
        "On average, each customer has access to about $8,635 in credit. This reflects the institution’s credit allocation strategy and risk tolerance. Comparing this with income, the average credit limit is approximately 15% of the average annual income, suggesting a conservative credit extension policy."
      ],
      "id": "d5f90ab8"
    },
    {
      "cell_type": "code",
      "metadata": {},
      "source": [
        "#| echo: false\n",
        "#| output: false\n",
        "avg_score = merged_df[\"Cust_Satisfaction_Score\"].mean()\n",
        "print(\"Average Satisfaction Score:\", round(avg_score, 2))"
      ],
      "id": "e5bc077b",
      "execution_count": null,
      "outputs": []
    },
    {
      "cell_type": "markdown",
      "metadata": {},
      "source": [
        "The satisfaction score indicates a moderate level of customer satisfaction, slightly above neutral. A score of 3.19 implies that while many customers are relatively content, there’s still room for improvement in service delivery, credit products, or customer support.\n",
        "\n",
        "Add median income, median credit limit, or mode for most common card type."
      ],
      "id": "c773934f"
    },
    {
      "cell_type": "code",
      "metadata": {},
      "source": [
        "#| echo: false\n",
        "#| output: false\n",
        "print(\"Median Income:\", merged_df[\"Income\"].median())\n",
        "print(\"Mode Card Type:\", merged_df[\"Card_Category\"].mode()[0])"
      ],
      "id": "74975eed",
      "execution_count": null,
      "outputs": []
    },
    {
      "cell_type": "markdown",
      "metadata": {},
      "source": [
        "- Median income is around 44,768.5; focus marketing on middle-income customers.\n",
        "- \"Blue\" is the most common card type; consider enhancing its features and promotions.\n",
        "- Analyze income distribution further to tailor products better.\n",
        "\n",
        "**Do men and women have different average credit limits?**"
      ],
      "id": "8c45b196"
    },
    {
      "cell_type": "code",
      "metadata": {},
      "source": [
        "#| echo: false\n",
        "#| output: false\n",
        "from scipy.stats import ttest_ind\n",
        "\n",
        "men = merged_df[merged_df['Gender'] == 'Male']['Credit_Limit']\n",
        "women = merged_df[merged_df['Gender'] == 'Female']['Credit_Limit']\n",
        "t_stat, p_val = ttest_ind(men, women, nan_policy='omit')\n",
        "print(\"p-value:\", p_val)"
      ],
      "id": "384bd9e6",
      "execution_count": null,
      "outputs": []
    },
    {
      "cell_type": "markdown",
      "metadata": {},
      "source": [
        "**Interpretation**\n",
        "\n",
        "- Since the p-value is **less than 0.05**, there is a **statistically significant difference** in average credit limits between **male and female** customers.\n",
        "- This suggests that **gender is associated with different credit limit assignments** in this dataset.\n",
        "\n",
        "**Data-Driven Recommendations**\n",
        "\n",
        "1. **Review Gender-Based Credit Policies**\n",
        "   - Investigate why males and females receive different credit limits.\n",
        "   - Ensure credit evaluation processes are fair, unbiased, and compliant with financial regulations.\n",
        "\n",
        "2. **Refine Credit Strategies**\n",
        "   - If the difference is justified by other factors (e.g., income, credit score), consider building separate credit models by gender or re-evaluating feature weights in existing models.\n",
        "\n",
        "3. **Further Statistical Analysis**\n",
        "   - Explore if **income** also differs significantly by gender using another T-test.\n",
        "   - Use **correlation analysis** to examine relationships between `Credit_Limit`, `Income`, `Card Type`, and other variables.\n",
        "   - Consider building a **regression model** to predict `Credit_Limit` using multiple features, including gender.\n",
        "\n",
        "**Possible Correlations**\n",
        "\n",
        "- There may be a correlation between **Gender and Credit Limit**, as well as between **Income and Credit Limit**.\n",
        "- A **correlation matrix** or **regression analysis** would help confirm the strength and direction of these relationships.\n",
        "\n",
        "## relationships between numerical variables "
      ],
      "id": "904111c3"
    },
    {
      "cell_type": "code",
      "metadata": {},
      "source": [
        "#| echo: false\n",
        "#| output: false\n",
        "corr = merged_df[['Income', 'Credit_Limit', 'Total_Trans_Amt', 'Annual_Fees']].corr()\n",
        "print(corr)"
      ],
      "id": "9452aa4f",
      "execution_count": null,
      "outputs": []
    },
    {
      "cell_type": "code",
      "metadata": {},
      "source": [
        "sns.heatmap(corr, annot=True, cmap='Blues')\n",
        "plt.title(\"Correlation Matrix\")\n",
        "plt.savefig(os.path.join(results_dir, 'Correlation_Matrix_Heatmap.jpg'))\n",
        "plt.savefig(os.path.join(results_dir, 'Correlation_Matrix_Heatmap.png'))\n",
        "plt.show()"
      ],
      "id": "89c598b1",
      "execution_count": null,
      "outputs": []
    },
    {
      "cell_type": "markdown",
      "metadata": {},
      "source": [
        "The correlation matrix heatmap reveals the following key relationships between financial variables:\n",
        "\n",
        "| Variable Pair            | Correlation Coefficient (r) | Interpretation |\n",
        "|--------------------------|----------------------------|----------------|\n",
        "| Income vs Total_Trans_Amt | 0.97 | Very strong positive correlation |\n",
        "| Income vs Credit_Limit    | 0.13 | Weak positive correlation |\n",
        "| Credit_Limit vs Trans_Amt | 0.17 | Weak positive correlation |\n",
        "| Annual_Fees vs others     | -0.0019 to 0.007 | No meaningful correlation |\n",
        "\n",
        "**Key Insights**\n",
        "\n",
        "1. **Strong Spending-Income Relationship**  \n",
        "   - The near-perfect correlation (0.97) between Income and Total_Trans_Amt indicates that higher-income customers consistently spend more through their credit cards.\n",
        "\n",
        "2. **Limited Credit Limit Influence**  \n",
        "   - Both Income → Credit_Limit (0.13) and Credit_Limit → Trans_Amt (0.17) show only weak relationships, suggesting credit limits are not major spending drivers.\n",
        "\n",
        "3. **Irrelevance of Annual Fees**  \n",
        "   - Annual_Fees show virtually no correlation with any other variables (all |r| < 0.01), indicating fees don't impact spending behavior or credit utilization.\n",
        "\n",
        "**Data-Driven Recommendations**\n",
        "\n",
        "3 Key Strategy Changes\n",
        "1. Income-First Strategy: Use income data (0.97 correlation with spending) as primary business driver, Target high-income customers for premium products, Set credit limits based on income, not traditional scoring\n",
        "2. Eliminate Annual Fees: Annual fees show zero correlation with spending behavior, Replace with usage-based pricing or value-added services, Focus on transaction fees and rewards programs\n",
        "3. Conservative Credit Limits: Credit limits have weak correlation with spending (0.17), Set lower initial limits to reduce risk, Use income and spending patterns for limit decisions\n",
        "\n",
        "## check if distributions are normal"
      ],
      "id": "e0c199a5"
    },
    {
      "cell_type": "code",
      "metadata": {},
      "source": [
        "#| echo: false\n",
        "#| output: false\n",
        "from scipy.stats import skew, kurtosis\n",
        "\n",
        "print(\"Skewness:\", skew(merged_df[\"Credit_Limit\"].dropna()))\n",
        "print(\"Kurtosis:\", kurtosis(merged_df[\"Credit_Limit\"].dropna()))"
      ],
      "id": "1ec6984e",
      "execution_count": null,
      "outputs": []
    },
    {
      "cell_type": "markdown",
      "metadata": {},
      "source": [
        "**Interpretation**\n",
        "\n",
        "Skewness ≈ 1.67\n",
        "The distribution of Credit_Limit is right-skewed. This means most customers have lower credit limits, while a few have very high limits, pulling the average upward.\n",
        "\n",
        "Kurtosis ≈ 1.80\n",
        "This indicates a leptokurtic distribution (sharper peak and heavier tails than normal). It suggests the presence of outliers — customers with unusually high or low credit limits.\n",
        "\n",
        "**Recommendations**\n",
        "\n",
        "1. Customer Segmentation Strategy\n",
        "Mass Market: Focus on the majority with lower limits (most customers)\n",
        "Premium Segment: Identify and nurture the few high-limit customers\n",
        "Outlier Management: Investigate extreme cases for fraud/risk assessment\n",
        "2. Risk Management Optimization\n",
        "Conservative Approach: Since most customers have low limits, maintain conservative initial limits\n",
        "Outlier Monitoring: Implement special monitoring for customers with unusually high/low limits\n",
        "Fraud Detection: Heavy tails suggest potential fraud or data quality issues\n",
        "3. Product Development\n",
        "Tiered Products: Create different card tiers based on the natural distribution\n",
        "Limit Optimization: Use median (not mean) for \"typical\" customer expectations\n",
        "Premium Services: Develop specialized services for high-limit customers\n",
        "4. Marketing Strategy\n",
        "Targeted Messaging: Different campaigns for low vs. high limit segments\n",
        "Limit Increase Campaigns: Focus on the large segment with lower limits\n",
        "Premium Positioning: Exclusive offerings for high-limit customers\n",
        "\n",
        "## Gender Distribution"
      ],
      "id": "f96ff3c4"
    },
    {
      "cell_type": "code",
      "metadata": {},
      "source": [
        "#| echo: false\n",
        "#| output: false\n",
        "merged_df_gender = merged_df.groupby('Gender').size().reset_index(name='total')\n",
        "merged_df_gender"
      ],
      "id": "c9d33229",
      "execution_count": null,
      "outputs": []
    },
    {
      "cell_type": "code",
      "metadata": {},
      "source": [
        "gender_dist = merged_df['Gender'].value_counts().reset_index()\n",
        "gender_dist.columns = ['Gender', 'count']\n",
        "\n",
        "fig = px.pie(gender_dist, names='Gender', values='count', title=\"Gender Distribution\",\n",
        "             color_discrete_sequence=[\"#003399 \", \"#3366cc \", \"#dbe4f0 \"])\n",
        "\n",
        "fig.update_layout(\n",
        "    template = \"presentation\",\n",
        "    legend_title = dict(text=\"Gender\"),\n",
        "    margin=dict(l=60, r=50, t=50, b=50),\n",
        "    paper_bgcolor=\"rgba(0, 0, 0, 0)\",\n",
        "    plot_bgcolor=\"rgba(0, 0, 0, 0)\"\n",
        ")\n",
        "\n",
        "fig.update_traces(texttemplate=\"%{percent:.2%}\", textposition=\"inside\")\n",
        "\n",
        "fig.show()\n",
        "\n",
        "fig.write_image(os.path.join(results_dir, 'Gender_Distribution_Pie_Chart.jpg'))\n",
        "fig.write_image(os.path.join(results_dir, 'Gender_Distribution_Pie_Chart.png'))\n",
        "fig.write_html(os.path.join(results_dir, 'Gender_Distribution_Pie_Chart.html'))"
      ],
      "id": "5a57e582",
      "execution_count": null,
      "outputs": []
    },
    {
      "cell_type": "markdown",
      "metadata": {},
      "source": [
        "This pie chart visualizes the proportion of male and female customers in the dataset. Females make up 58.17% of the sample, while males account for 41.83%. The slight overrepresentation of women could indicate gender-based trends in credit card usage, spending habits, or customer satisfaction. Financial institutions might use this insight to tailor marketing strategies or credit offerings to different demographic groups.\n",
        "\n",
        "**Credit Limit by Gender**"
      ],
      "id": "1b745a24"
    },
    {
      "cell_type": "code",
      "metadata": {},
      "source": [
        "# Create the plot\n",
        "plt.figure(figsize=(6, 5))\n",
        "sns.boxplot(x='Gender', y='Credit_Limit', data=merged_df, hue='Gender',\n",
        "            palette={'Male': '#002366', 'Female': '#3366cc'}, legend=False)\n",
        "plt.title(\"Credit Limit by Gender\")\n",
        "\n",
        "# Save the figure using Matplotlib\n",
        "plt.savefig(os.path.join(results_dir, 'Credit_Limit_Boxplot.jpg'))\n",
        "plt.savefig(os.path.join(results_dir, 'Credit_Limit_Boxplot.png'))\n",
        "plt.show()"
      ],
      "id": "f6cc1a94",
      "execution_count": null,
      "outputs": []
    },
    {
      "cell_type": "markdown",
      "metadata": {},
      "source": [
        "**Credit Limit by Gender Analysis**\n",
        "\n",
        "Key Observations:\n",
        "- **Median Credit Limits**:\n",
        "  - Male: ~$22,000\n",
        "  - Female: ~$18,000\n",
        "- **Range Spread**:\n",
        "  - Males show a wider interquartile range (IQR)\n",
        "  - Both genders have similar outlier patterns\n",
        "- **Distribution Shape**:\n",
        "  - Both distributions are right-skewed\n",
        "  - Male group shows more extreme high-value outliers\n",
        "\n",
        "## Income by Education Level"
      ],
      "id": "24e855a2"
    },
    {
      "cell_type": "code",
      "metadata": {},
      "source": [
        "#| echo: false\n",
        "#| output: false\n",
        "merged_df_income_edlevel = merged_df.groupby('Education_Level')['Income'].mean().reset_index(name='average_income').sort_values(by='average_income', ascending=False)\n",
        "merged_df_income_edlevel"
      ],
      "id": "a03cb07c",
      "execution_count": null,
      "outputs": []
    },
    {
      "cell_type": "code",
      "metadata": {},
      "source": [
        "#| echo: false\n",
        "#| output: false\n",
        "total_income = merged_df_income_edlevel['average_income'].sum()\n",
        "merged_df_income_edlevel['percentage'] = (merged_df_income_edlevel['average_income'] / total_income) * 100\n",
        "merged_df_income_edlevel = merged_df_income_edlevel.sort_values(by='Education_Level', ascending=False)\n",
        "merged_df_income_edlevel"
      ],
      "id": "288d1486",
      "execution_count": null,
      "outputs": []
    },
    {
      "cell_type": "code",
      "metadata": {},
      "source": [
        "fig = px.bar(\n",
        "    merged_df_income_edlevel,\n",
        "    x='Education_Level',\n",
        "    y='percentage',\n",
        "    title='Average Income Distribution by Education Level (%)',\n",
        "    barmode='group',\n",
        "    height=700,\n",
        "    width=1100,\n",
        "    color_discrete_sequence=['#002366'], \n",
        "    text='percentage'\n",
        ")\n",
        "\n",
        "fig.update_layout(\n",
        "    template=\"presentation\",\n",
        "    xaxis_title=\"Education Level\",\n",
        "    yaxis_title=\"Percentage of Total Average Income\",\n",
        "    legend_title_text=None,\n",
        "    bargap=0.4,\n",
        "    bargroupgap=0.2,\n",
        "    margin=dict(l=60, r=50, t=50, b=150),\n",
        "    paper_bgcolor = \"rgba(0, 0, 0, 0)\",\n",
        "    plot_bgcolor = \"rgba(0, 0, 0, 0)\",\n",
        "    xaxis=dict(showgrid=False),\n",
        "    yaxis=dict(showgrid=False)\n",
        ")\n",
        "\n",
        "fig.update_traces(\n",
        "    texttemplate=\"%{text:.2f}%\",\n",
        "    textposition=\"outside\",\n",
        "    marker_line_width=0  \n",
        ")\n",
        "\n",
        "fig.write_image(os.path.join(results_dir, 'Avg_Income_by_EdLevel.jpg'))\n",
        "fig.write_image(os.path.join(results_dir, 'Avg_Income_by_EdLevel.png'))\n",
        "fig.write_html(os.path.join(results_dir, 'Avg_Income_by_EdLevel.html'))\n",
        "\n",
        "fig.show()"
      ],
      "id": "0c9b9c90",
      "execution_count": null,
      "outputs": []
    },
    {
      "cell_type": "markdown",
      "metadata": {},
      "source": [
        "This bar chart compares average income across different education levels. Surprisingly, individuals with an \"Unknown\" education level report the highest average income (16.99%), followed by \" Uneducated\" graduates (16.79%). Meanwhile, those with \"Doctorate\" degrees have the lowest average income (16.27%). This suggests that formal education does not necessarily correlate with higher income in this dataset, possibly due to other factors like occupation type or regional economic conditions.\n",
        "\n",
        "## Customers by Marital Status"
      ],
      "id": "3105c508"
    },
    {
      "cell_type": "code",
      "metadata": {},
      "source": [
        "#| echo: false\n",
        "#| output: false\n",
        "marital_status_df = merged_df['Marital_Status'].value_counts().reset_index()\n",
        "marital_status_df.columns = ['Marital_Status', 'total_customers']\n",
        "marital_status_df = marital_status_df.sort_values(by='total_customers', ascending=False)\n",
        "marital_status_df"
      ],
      "id": "07ba25e0",
      "execution_count": null,
      "outputs": []
    },
    {
      "cell_type": "code",
      "metadata": {},
      "source": [
        "#| echo: false\n",
        "#| output: false\n",
        "total = marital_status_df['total_customers'].sum()\n",
        "marital_status_df['percentage'] = (marital_status_df['total_customers'] / total) * 100\n",
        "marital_status_df"
      ],
      "id": "9d3c2395",
      "execution_count": null,
      "outputs": []
    },
    {
      "cell_type": "code",
      "metadata": {},
      "source": [
        "fig = px.bar(\n",
        "    marital_status_df,\n",
        "    y='Marital_Status',\n",
        "    x='percentage',\n",
        "    orientation='h',\n",
        "    title='Customer Distribution by Marital Status (%)',\n",
        "    color_discrete_sequence=['#002366'],\n",
        "    text = 'percentage',\n",
        "    height=700,\n",
        "    width=1000\n",
        ")\n",
        "\n",
        "fig.update_layout(\n",
        "    template = \"presentation\",\n",
        "    xaxis_title=\"Percentage of Customers\",\n",
        "    yaxis_title=\"Marital Status\",\n",
        "    legend_title_text=None,\n",
        "    bargap=0.4,\n",
        "    bargroupgap=0.2,\n",
        "    margin=dict(l=150, r=50, t=50, b=50),\n",
        "    paper_bgcolor=\"rgba(0, 0, 0, 0)\",\n",
        "    plot_bgcolor=\"rgba(0, 0, 0, 0)\",\n",
        "    xaxis=dict(showgrid=False),\n",
        "    yaxis=dict(showgrid=False)\n",
        ")\n",
        "\n",
        "fig.update_traces(\n",
        "    texttemplate=\"%{text:.2f}%\",\n",
        "    textposition=\"outside\",\n",
        "    marker_line_width=0\n",
        ")\n",
        "\n",
        "fig.write_image(os.path.join(results_dir, 'Customers_by_Marital_Status.jpg'))\n",
        "fig.write_image(os.path.join(results_dir, 'Customers_by_Marital_Status.png'))\n",
        "fig.write_html(os.path.join(results_dir, 'Customers_by_Marital_Status.html'))\n",
        "\n",
        "fig.show()"
      ],
      "id": "83163899",
      "execution_count": null,
      "outputs": []
    },
    {
      "cell_type": "markdown",
      "metadata": {},
      "source": [
        "The dataset shows that 50.73% of customers are married, 41.91% are single, and 7.36% have an unknown marital status. Since married individuals dominate, banks could explore whether marital status influences spending behavior, credit utilization, or repayment patterns. For example, married couples might have higher combined credit limits or different financial priorities.\n",
        "\n",
        "## Average Credit Limit by Card Type"
      ],
      "id": "d82727db"
    },
    {
      "cell_type": "code",
      "metadata": {},
      "source": [
        "#| echo: false\n",
        "#| output: false\n",
        "avg_credit_by_card = merged_df.groupby('Card_Category')['Credit_Limit'].mean().reset_index(name='average_credit_limit')\n",
        "avg_credit_by_card = avg_credit_by_card.sort_values(by='average_credit_limit', ascending=False)\n",
        "avg_credit_by_card"
      ],
      "id": "c2612ced",
      "execution_count": null,
      "outputs": []
    },
    {
      "cell_type": "code",
      "metadata": {},
      "source": [
        "#| echo: false\n",
        "#| output: false\n",
        "total_credit = avg_credit_by_card['average_credit_limit'].sum()\n",
        "avg_credit_by_card['percentage'] = (avg_credit_by_card['average_credit_limit'] / total_credit) * 100\n",
        "avg_credit_by_card"
      ],
      "id": "49828176",
      "execution_count": null,
      "outputs": []
    },
    {
      "cell_type": "code",
      "metadata": {
        "scrolled": true
      },
      "source": [
        "fig = px.bar(\n",
        "    avg_credit_by_card,\n",
        "    x='Card_Category',\n",
        "    y='percentage',\n",
        "    title='Average Credit Limit by Card Type (%)',\n",
        "    color_discrete_sequence=['#002366'],\n",
        "    text='percentage',\n",
        "    height=700,\n",
        "    width=1100\n",
        ")\n",
        "\n",
        "fig.update_layout(\n",
        "    template=\"presentation\",\n",
        "    xaxis_title=\"Card Type\",\n",
        "    yaxis_title=\"Percentage of Total Avg Credit Limit\",\n",
        "    legend_title_text=None,\n",
        "    bargap=0.4,\n",
        "    bargroupgap=0.2, \n",
        "    margin=dict(l=60, r=50, t=50, b=150),\n",
        "    paper_bgcolor=\"rgba(0, 0, 0, 0)\",\n",
        "    plot_bgcolor=\"rgba(0, 0, 0, 0)\",\n",
        "    xaxis=dict(showgrid=False),\n",
        "    yaxis=dict(showgrid=False)\n",
        ")\n",
        "\n",
        "fig.update_traces(\n",
        "    texttemplate=\"%{text:.2f}%\",\n",
        "    textposition=\"outside\",\n",
        "    marker_line_width=0\n",
        ")\n",
        "\n",
        "fig.write_image(os.path.join(results_dir, 'Avg_Credit_Limit_by_Card_Type.jpg'))\n",
        "fig.write_image(os.path.join(results_dir, 'Avg_Credit_Limit_by_Card_Type.png'))\n",
        "fig.write_html(os.path.join(results_dir, 'Avg_Credit_Limit_by_Card_Type.html'))\n",
        "\n",
        "fig.show()"
      ],
      "id": "0ed00ca0",
      "execution_count": null,
      "outputs": []
    },
    {
      "cell_type": "markdown",
      "metadata": {},
      "source": [
        "This bar chart illustrates how the average credit limit differs across various card types (e.g., Silver, Gold, Platinum). It's useful for evaluating which card types offer more credit and for what customer profiles.\n",
        "KPlatinum cards have the highest average credit limit (33.9%), followed by gold (31.68%) and silver (23.85%).\n",
        "Blue cards have the lowest limit (10.56%).\n",
        "Premium cards (platinum/gold) offer higher credit limits, likely targeting high-income customers.\n",
        "\n",
        "## Average Interest Earned per Card Type"
      ],
      "id": "bf4d3e44"
    },
    {
      "cell_type": "code",
      "metadata": {},
      "source": [
        "#| echo: false\n",
        "#| output: false\n",
        "avg_interest_by_card = merged_df.groupby('Card_Category')['Interest_Earned'].mean().reset_index(name='average_interest')\n",
        "avg_interest_by_card = avg_interest_by_card.sort_values(by='average_interest', ascending=False)\n",
        "avg_interest_by_card"
      ],
      "id": "e8bf42a9",
      "execution_count": null,
      "outputs": []
    },
    {
      "cell_type": "code",
      "metadata": {},
      "source": [
        "#| echo: false\n",
        "#| output: false\n",
        "total_interest = avg_interest_by_card['average_interest'].sum()\n",
        "avg_interest_by_card['percentage'] = (avg_interest_by_card['average_interest'] / total_interest) * 100\n",
        "avg_interest_by_card"
      ],
      "id": "912610ca",
      "execution_count": null,
      "outputs": []
    },
    {
      "cell_type": "code",
      "metadata": {},
      "source": [
        "fig = px.bar(\n",
        "    avg_interest_by_card,\n",
        "    x='Card_Category',\n",
        "    y='percentage',\n",
        "    title='Average Interest Earned per Card Type (%)',\n",
        "    color_discrete_sequence=['#002366'],\n",
        "    text='percentage',\n",
        "    height=700,\n",
        "    width=1100\n",
        ")\n",
        "\n",
        "fig.update_layout(\n",
        "    template=\"presentation\",\n",
        "    xaxis_title=\"Card Type\",\n",
        "    yaxis_title=\"Percentage of Total Avg Interest Earned\",\n",
        "    legend_title_text=None,\n",
        "    bargap=0.4,\n",
        "    bargroupgap=0.2, \n",
        "    margin=dict(l=60, r=50, t=50, b=150),\n",
        "    paper_bgcolor=\"rgba(0, 0, 0, 0)\",\n",
        "    plot_bgcolor=\"rgba(0, 0, 0, 0)\",\n",
        "    xaxis=dict(showgrid=False),\n",
        "    yaxis=dict(showgrid=False)\n",
        ")\n",
        "\n",
        "fig.update_traces(\n",
        "    texttemplate=\"%{text:.2f}%\",\n",
        "    textposition=\"outside\",\n",
        "    marker_line_width=0\n",
        ")\n",
        "\n",
        "fig.write_image(os.path.join(results_dir, 'Avg_Interest_by_Card_Type.jpg'))\n",
        "fig.write_image(os.path.join(results_dir, 'Avg_Interest_by_Card_Type.png'))\n",
        "fig.write_html(os.path.join(results_dir, 'Avg_Interest_by_Card_Type.html'))\n",
        "\n",
        "fig.show()"
      ],
      "id": "58c4e706",
      "execution_count": null,
      "outputs": []
    },
    {
      "cell_type": "markdown",
      "metadata": {},
      "source": [
        "This chart compares the average interest earned from each card type. It helps in assessing which card types are more profitable for the issuer based on customer behavior.\n",
        "Platinum cards generate the most interest (31.18%), followed by gold (19.93%).\n",
        "Silver and blue cards contribute less (exact percentages unclear due to missing labels).\n",
        "\n",
        "Implication: Higher credit limits (platinum/gold) may lead to more borrowing and interest income for the issuer.\n",
        "\n",
        "## Usage Mode vs Total Spend"
      ],
      "id": "c526616a"
    },
    {
      "cell_type": "code",
      "metadata": {},
      "source": [
        "#| echo: false\n",
        "#| output: false\n",
        "usage_vs_spend = merged_df.groupby('Use Chip')['Total_Trans_Amt'].sum().reset_index(name='total_spend')\n",
        "usage_vs_spend = usage_vs_spend.sort_values(by='total_spend', ascending=True)\n",
        "usage_vs_spend"
      ],
      "id": "a85d79c9",
      "execution_count": null,
      "outputs": []
    },
    {
      "cell_type": "code",
      "metadata": {},
      "source": [
        "#| echo: false\n",
        "#| output: false\n",
        "total_spend_sum = usage_vs_spend['total_spend'].sum()\n",
        "usage_vs_spend['percentage'] = (usage_vs_spend['total_spend'] / total_spend_sum) * 100\n",
        "usage_vs_spend"
      ],
      "id": "470ed252",
      "execution_count": null,
      "outputs": []
    },
    {
      "cell_type": "code",
      "metadata": {},
      "source": [
        "fig = px.bar(\n",
        "    usage_vs_spend,\n",
        "    x='percentage',\n",
        "    y='Use Chip',\n",
        "    orientation='h',\n",
        "    title='Usage Mode vs Total Spend (%)',\n",
        "    color_discrete_sequence=['#002366'],\n",
        "    text='percentage',\n",
        "    height=700,\n",
        "    width=1100\n",
        ")\n",
        "\n",
        "fig.update_layout(\n",
        "    template=\"presentation\",\n",
        "    xaxis_title=\"Percentage of Total Spend\",\n",
        "    yaxis_title=\"Usage Mode\",\n",
        "    legend_title_text=None,\n",
        "    bargap=0.4,\n",
        "    bargroupgap=0.2,\n",
        "    margin=dict(l=150, r=50, t=50, b=50),\n",
        "    paper_bgcolor=\"rgba(0, 0, 0, 0)\",\n",
        "    plot_bgcolor=\"rgba(0, 0, 0, 0)\",\n",
        "    xaxis=dict(showgrid=False),\n",
        "    yaxis=dict(showgrid=False)\n",
        ")\n",
        "\n",
        "fig.update_traces(\n",
        "    texttemplate=\"%{text:.2f}%\",\n",
        "    textposition=\"outside\",\n",
        "    marker_line_width=0\n",
        ")\n",
        "\n",
        "fig.write_image(os.path.join(results_dir, 'Usage_Mode_vs_Total_Spend.jpg'))\n",
        "fig.write_image(os.path.join(results_dir, 'Usage_Mode_vs_Total_Spend.png'))\n",
        "fig.write_html(os.path.join(results_dir, 'Usage_Mode_vs_Total_Spend.html'))\n",
        "\n",
        "fig.show()"
      ],
      "id": "27e0491d",
      "execution_count": null,
      "outputs": []
    },
    {
      "cell_type": "markdown",
      "metadata": {},
      "source": [
        "his graph shows how spending is distributed across usage modes (e.g., swipe, online, tap). It highlights customer preferences and transaction habits across platforms.\n",
        "Swipe dominates (62%), followed by chip (31.11%) and online (6.24%).\n",
        "\n",
        "Implication: Customers prefer in-person transactions (swipe/chip) over online payments.\n",
        "\n",
        "## Total Transaction Amount Over Time"
      ],
      "id": "1ec52854"
    },
    {
      "cell_type": "code",
      "metadata": {},
      "source": [
        "#| echo: false\n",
        "#| output: false\n",
        "month_order = ['January', 'February', 'March', 'April', 'May', 'June',\n",
        "               'July', 'August', 'September', 'October', 'November', 'December']\n",
        "merged_df['Month'] = pd.Categorical(merged_df['Month'], categories=month_order, ordered=True)"
      ],
      "id": "c1d1b394",
      "execution_count": null,
      "outputs": []
    },
    {
      "cell_type": "code",
      "metadata": {},
      "source": [
        "#| echo: false\n",
        "#| output: false\n",
        "monthly_trans_amt = merged_df.groupby('Month')['Total_Trans_Amt'].sum().reset_index(name='total_transaction_amount')\n",
        "monthly_trans_amt = monthly_trans_amt.sort_values('Month')\n",
        "monthly_trans_amt"
      ],
      "id": "d4441b97",
      "execution_count": null,
      "outputs": []
    },
    {
      "cell_type": "code",
      "metadata": {},
      "source": [
        "fig = px.line(\n",
        "    monthly_trans_amt,\n",
        "    x='Month',\n",
        "    y='total_transaction_amount',\n",
        "    title='Total Transaction Amount Over Time (Monthly)',\n",
        "    markers=True\n",
        ")\n",
        "\n",
        "# Apply smoothing using a spline\n",
        "fig.update_traces(line_shape='spline', line=dict(color='#002366', width=3))\n",
        "\n",
        "fig.update_layout(\n",
        "    template=\"presentation\",\n",
        "    xaxis_title = \"Month\",\n",
        "    yaxis_title = \"Total Transaction Amount\",\n",
        "    paper_bgcolor=\"white\",\n",
        "    plot_bgcolor=\"white\",\n",
        "    margin=dict(l=60, r=50, t=50, b=50),\n",
        "    font=dict(color=\"black\"),\n",
        "    xaxis=dict(showgrid=False, color = \"black\"),\n",
        "    yaxis=dict(showgrid=False, color = \"black\")\n",
        ")\n",
        "\n",
        "fig.write_image(os.path.join(results_dir, 'Total_Transaction_Amount_Over_Time.jpg'))\n",
        "fig.write_image(os.path.join(results_dir, 'Total_Transaction_Amount_Over_Time.png'))\n",
        "fig.write_html(os.path.join(results_dir, 'Total_Transaction_Amount_Over_Time.html'))\n",
        "\n",
        "fig.show()"
      ],
      "id": "0dc48020",
      "execution_count": null,
      "outputs": []
    },
    {
      "cell_type": "markdown",
      "metadata": {},
      "source": [
        "This line chart tracks the monthly trend of total transaction amounts. It reveals seasonal patterns, spikes, or drops in spending that might relate to holidays or economic changes.\n",
        "Peaks in December (~2.2M) and March (~3.38M), with dips in April and July.\n",
        "\n",
        "Implication: Seasonal spikes (e.g., holidays, tax season) drive higher spending.\n",
        "\n",
        "## Spending by Expense Type "
      ],
      "id": "0bd8f22f"
    },
    {
      "cell_type": "code",
      "metadata": {},
      "source": [
        "#| echo: false\n",
        "#| output: false\n",
        "exp_type_spending = merged_df.groupby('Exp Type')['Client_Num'].nunique().reset_index(name='total_customers').sort_values(['Exp Type', 'total_customers'])\n",
        "exp_type_spending = exp_type_spending.sort_values(by='total_customers', ascending=False)\n",
        "exp_type_spending"
      ],
      "id": "db6d85ae",
      "execution_count": null,
      "outputs": []
    },
    {
      "cell_type": "code",
      "metadata": {},
      "source": [
        "#| echo: false\n",
        "#| output: false\n",
        "total_customers = exp_type_spending['total_customers'].sum()\n",
        "exp_type_spending['percentage'] = (exp_type_spending['total_customers'] / total_customers) * 100\n",
        "exp_type_spending"
      ],
      "id": "ce0e756b",
      "execution_count": null,
      "outputs": []
    },
    {
      "cell_type": "code",
      "metadata": {},
      "source": [
        "fig = px.bar(\n",
        "    exp_type_spending,\n",
        "    x='Exp Type',\n",
        "    y='percentage',\n",
        "    title='Spending by Expense Type (%)',\n",
        "    text='percentage',\n",
        "    color_discrete_sequence=['#002366'],\n",
        "    height=700,\n",
        "    width=1100\n",
        ")\n",
        "\n",
        "fig.update_layout(\n",
        "    template=\"presentation\",\n",
        "    xaxis_title=\"Expense Type\",\n",
        "    yaxis_title=\"Percentage of Customers\",\n",
        "    bargap=0.4,\n",
        "    bargroupgap=0.2,\n",
        "    margin=dict(l=60, r=50, t=50, b=150),\n",
        "    paper_bgcolor=\"rgba(0,0,0,0)\",\n",
        "    plot_bgcolor=\"rgba(0,0,0,0)\",\n",
        "    xaxis=dict(showgrid=False),\n",
        "    yaxis=dict(showgrid=False)\n",
        ")\n",
        "\n",
        "fig.update_traces(\n",
        "    texttemplate=\"%{text:.2f}%\",\n",
        "    textposition=\"outside\",\n",
        "    marker_line_width=0\n",
        ")\n",
        "\n",
        "fig.write_image(os.path.join(results_dir, 'Spending_by_Expense_Type.jpg'))\n",
        "fig.write_image(os.path.join(results_dir, 'Spending_by_Expense_Type.png'))\n",
        "fig.write_html(os.path.join(results_dir, 'Spending_by_Expense_Type.html'))\n",
        "\n",
        "fig.show()"
      ],
      "id": "877836ae",
      "execution_count": null,
      "outputs": []
    },
    {
      "cell_type": "markdown",
      "metadata": {},
      "source": [
        "This chart breaks down total spending into categories like groceries, travel, or bills. It provides insights into where customers spend most of their money and can guide product recommendations.\n",
        "Bills and Entertainment likely dominate (exact percentages unclear due to missing labels).\n",
        "\n",
        "Implication: Essential expenses (Bills/Entertainment) are primary spending drivers.\n",
        "\n",
        "## Delinquent Accounts by State "
      ],
      "id": "3d2503cd"
    },
    {
      "cell_type": "code",
      "metadata": {},
      "source": [
        "#| echo: false\n",
        "#| output: false\n",
        "delinq_by_state = merged_df.groupby('state_cd')['Delinquent_Acc'].sum().reset_index(name='total_delinquent')\n",
        "delinq_by_state = delinq_by_state.sort_values(by='total_delinquent', ascending=False)\n",
        "delinq_by_state"
      ],
      "id": "9bcc79a6",
      "execution_count": null,
      "outputs": []
    },
    {
      "cell_type": "code",
      "metadata": {},
      "source": [
        "#| echo: false\n",
        "#| output: false\n",
        "total_delinq = delinq_by_state['total_delinquent'].sum()\n",
        "delinq_by_state['percentage'] = (delinq_by_state['total_delinquent'] / total_delinq) * 100\n",
        "delinq_by_state"
      ],
      "id": "219fef8a",
      "execution_count": null,
      "outputs": []
    },
    {
      "cell_type": "code",
      "metadata": {},
      "source": [
        "num = 10\n",
        "delinq_by_states =  delinq_by_state.head(num)\n",
        "\n",
        "fig = px.bar(\n",
        "    delinq_by_states,\n",
        "    x='total_delinquent',\n",
        "    y='state_cd',\n",
        "    orientation='h',\n",
        "    title = f'Top {num} Delinquent Accounts by State',\n",
        "    height=700,\n",
        "    width=1100,\n",
        "    color_discrete_sequence=['#002366'],\n",
        "    text='total_delinquent'\n",
        ")\n",
        "\n",
        "fig.update_layout(\n",
        "    template=\"presentation\",\n",
        "    xaxis_title='Number of Delinquent Accounts',\n",
        "    yaxis_title='State',\n",
        "    margin=dict(l=250, r=50, t=50, b=50),\n",
        "    paper_bgcolor=\"rgba(0,0,0,0)\",\n",
        "    plot_bgcolor=\"rgba(0,0,0,0)\",\n",
        "    xaxis=dict(showgrid=False),\n",
        "    yaxis=dict(showgrid=False)\n",
        ")\n",
        "\n",
        "fig.update_traces(textposition='inside')\n",
        "fig.write_image(os.path.join(results_dir, 'Delinquent_Accounts_by_State.jpg'))\n",
        "fig.write_image(os.path.join(results_dir, 'Delinquent_Accounts_by_State.png'))\n",
        "fig.write_html(os.path.join(results_dir, 'Delinquent_Accounts_by_State.html'))\n",
        "\n",
        "fig.show()"
      ],
      "id": "3f119a6f",
      "execution_count": null,
      "outputs": []
    },
    {
      "cell_type": "markdown",
      "metadata": {},
      "source": [
        "This bar chart highlights the states with the most delinquent accounts. It is useful for regional risk assessment and credit policy adjustments.\n",
        "Ney York (154), California (145), and Texas (144) lead in delinquencies.\n",
        "\n",
        "Implication: Higher-risk regions may need targeted collection strategies.\n",
        "\n",
        "## Customer Count by Satisfaction Level"
      ],
      "id": "5e31ff14"
    },
    {
      "cell_type": "code",
      "metadata": {},
      "source": [
        "#| echo: false\n",
        "#| output: false\n",
        "funnel_df = merged_df.groupby('Cust_Satisfaction_Score')['Client_Num'].count().reset_index(name='customer_count')\n",
        "funnel_df = funnel_df.sort_values(by='customer_count', ascending=False)\n",
        "funnel_df"
      ],
      "id": "b3ad2bdb",
      "execution_count": null,
      "outputs": []
    },
    {
      "cell_type": "code",
      "metadata": {},
      "source": [
        "#| echo: false\n",
        "#| output: false\n",
        "total_customers = funnel_df['customer_count'].sum()\n",
        "funnel_df['percentage'] = (funnel_df['customer_count'] / total_customers) * 100\n",
        "funnel_df"
      ],
      "id": "35eae7bb",
      "execution_count": null,
      "outputs": []
    },
    {
      "cell_type": "code",
      "metadata": {},
      "source": [
        "import plotly.express as px\n",
        "\n",
        "# Group and sort\n",
        "bar_df = merged_df.groupby('Cust_Satisfaction_Score')['Client_Num'].count().reset_index(name='customer_count')\n",
        "bar_df = bar_df.sort_values(by='customer_count', ascending = False)\n",
        "\n",
        "# Plot\n",
        "fig = px.bar(\n",
        "    bar_df,\n",
        "    x='Cust_Satisfaction_Score',\n",
        "    y='customer_count',\n",
        "    text='customer_count',\n",
        "    title='Customer Count by Satisfaction Level',\n",
        "    labels={'Cust_Satisfaction_Score': 'Satisfaction Score', 'customer_count': 'Number of Customers'},\n",
        "    color_discrete_sequence=[\"#002366\"]\n",
        ")\n",
        "\n",
        "fig.update_traces(textposition='outside')\n",
        "fig.update_layout(\n",
        "    template=\"presentation\",\n",
        "    bargap=0.4,\n",
        "    bargroupgap=0.2, \n",
        "    margin=dict(l=60, r=50, t=50, b=150),\n",
        "    paper_bgcolor=\"rgba(0,0,0,0)\",\n",
        "    plot_bgcolor=\"rgba(0,0,0,0)\",\n",
        "    height=700,\n",
        "    width=1100,\n",
        "    xaxis=dict(showgrid=False),\n",
        "    yaxis=dict(showgrid=False)\n",
        ")\n",
        "\n",
        "# Save\n",
        "fig.write_image(os.path.join(results_dir, 'Customer_Count_by_Satisfaction_Bar.jpg'))\n",
        "fig.write_image(os.path.join(results_dir, 'Customer_Count_by_Satisfaction_Bar.png'))\n",
        "fig.write_html(os.path.join(results_dir, 'Customer_Count_by_Satisfaction_Bar.html'))\n",
        "\n",
        "fig.show()"
      ],
      "id": "64a4f88e",
      "execution_count": null,
      "outputs": []
    },
    {
      "cell_type": "markdown",
      "metadata": {},
      "source": [
        "This chart shows how many customers fall into different satisfaction levels (1-5). It’s important for customer experience evaluation and service improvement.\n",
        "Most customers cluster around mid-range satisfaction (scores 3–4), with ~2099–3088 customers.\n",
        "Fewer extremes (very satisfied/dissatisfied).\n",
        "\n",
        "Implication: Service improvements could target mid-range scorers to boost loyalty.\n",
        "\n",
        "## Customer Occupation Breakdown"
      ],
      "id": "47e0b734"
    },
    {
      "cell_type": "code",
      "metadata": {},
      "source": [
        "#| echo: false\n",
        "#| output: false\n",
        "job_df = merged_df.groupby('Customer_Job')['Client_Num'].count().reset_index(name='customer_count')\n",
        "job_df = job_df.sort_values(by='customer_count', ascending=False)\n",
        "job_df"
      ],
      "id": "3bc13c0a",
      "execution_count": null,
      "outputs": []
    },
    {
      "cell_type": "code",
      "metadata": {},
      "source": [
        "#| echo: false\n",
        "#| output: false\n",
        "total_jobs = job_df['customer_count'].sum()\n",
        "job_df['percentage'] = (job_df['customer_count'] / total_jobs) * 100\n",
        "job_df"
      ],
      "id": "b11ea021",
      "execution_count": null,
      "outputs": []
    },
    {
      "cell_type": "code",
      "metadata": {},
      "source": [
        "fig = px.bar(\n",
        "    job_df,\n",
        "    x='Customer_Job',\n",
        "    y='percentage',\n",
        "    title='Customer Occupation Breakdown (%)',\n",
        "    height=700,\n",
        "    width=1100,\n",
        "    color_discrete_sequence=['#002366'],\n",
        "    text='percentage'\n",
        ")\n",
        "\n",
        "fig.update_layout(\n",
        "    template=\"presentation\",\n",
        "    xaxis_title=\"Customer Job\",\n",
        "    yaxis_title=\"Percentage of Customers\",\n",
        "    bargap=0.4,\n",
        "    bargroupgap=0.2,\n",
        "    margin=dict(l=60, r=50, t=50, b=150),\n",
        "    paper_bgcolor=\"rgba(0,0,0,0)\",\n",
        "    plot_bgcolor=\"rgba(0,0,0,0)\",\n",
        "    xaxis=dict(showgrid=False),\n",
        "    yaxis=dict(showgrid=False)\n",
        ")\n",
        "\n",
        "fig.update_traces(\n",
        "    texttemplate=\"%{text:.2f}%\",\n",
        "    textposition=\"outside\",\n",
        "    marker_line_width=0\n",
        ")\n",
        "\n",
        "fig.write_image(os.path.join(results_dir, 'Customer_Job_Breakdown.jpg'))\n",
        "fig.write_image(os.path.join(results_dir, 'Customer_Job_Breakdown.png'))\n",
        "fig.write_html(os.path.join(results_dir, 'Customer_Job_Breakdown.html'))\n",
        "\n",
        "fig.show()"
      ],
      "id": "8f0d4104",
      "execution_count": null,
      "outputs": []
    },
    {
      "cell_type": "markdown",
      "metadata": {},
      "source": [
        "This chart presents the percentage distribution of customers across different job types. It helps in profiling the customer base and targeting services based on occupation-related income stability\n",
        "Top occupations: \"SelfEmployed\" (25.47%), BusinessMan (18.81%), blue-collar (15.62%).\n",
        "\n",
        " bargap=0.4,\n",
        "    bargroupgap=0.2,\n",
        "    margin=dict(l=60, r=50, t=50, b=150),\n",
        "    paper_bgcolor=\"rgba(0,0,0,0)\",\n",
        "    plot_bgcolor=\"rgba(0,0,0,0)\",\n",
        "    xaxis=dict(showgrid=False),\n",
        "    yaxis=dict(showgrid=False)\n",
        ")\n",
        "\n",
        "fig.update_traces(\n",
        "    texttemplate=\"%{text:.2f}%\",\n",
        "    textposition=\"outside\",\n",
        "    marker_line_width=0\n",
        ")\n",
        "\n",
        "fig.write_image(os.path.join(results_dir, 'Spending_by_Expense_Type.jpg'))\n",
        "fig.write_image(os.path.join(results_dir, 'Spending_by_Expense_Type.png'))\n",
        "fig.write_html(os.path.join(results_dir, 'Spending_by_Expense_Type.html'))\n",
        "\n",
        "fig.show()\n",
        "```\n",
        "\n",
        "This chart breaks down total spending into categories like groceries, travel, or bills. It provides insights into where customers spend most of their money and can guide product recommendations.\n",
        "Bills and Entertainment likely dominate (exact percentages unclear due to missing labels).\n",
        "\n",
        "Implication: Essential expenses (Bills/Entertainment) are primary spending drivers.\n",
        "\n",
        "## Delinquent Accounts by State "
      ],
      "id": "9a5618b9"
    },
    {
      "cell_type": "code",
      "metadata": {},
      "source": [
        "#| echo: false\n",
        "#| output: false\n",
        "delinq_by_state = merged_df.groupby('state_cd')['Delinquent_Acc'].sum().reset_index(name='total_delinquent')\n",
        "delinq_by_state = delinq_by_state.sort_values(by='total_delinquent', ascending=False)\n",
        "delinq_by_state"
      ],
      "id": "1539e091",
      "execution_count": null,
      "outputs": []
    },
    {
      "cell_type": "code",
      "metadata": {},
      "source": [
        "#| echo: false\n",
        "#| output: false\n",
        "total_delinq = delinq_by_state['total_delinquent'].sum()\n",
        "delinq_by_state['percentage'] = (delinq_by_state['total_delinquent'] / total_delinq) * 100\n",
        "delinq_by_state"
      ],
      "id": "db5d6cce",
      "execution_count": null,
      "outputs": []
    },
    {
      "cell_type": "code",
      "metadata": {},
      "source": [
        "num = 10\n",
        "delinq_by_states =  delinq_by_state.head(num)\n",
        "\n",
        "fig = px.bar(\n",
        "    delinq_by_states,\n",
        "    x='total_delinquent',\n",
        "    y='state_cd',\n",
        "    orientation='h',\n",
        "    title = f'Top {num} Delinquent Accounts by State',\n",
        "    height=700,\n",
        "    width=1100,\n",
        "    color_discrete_sequence=['#002366'],\n",
        "    text='total_delinquent'\n",
        ")\n",
        "\n",
        "fig.update_layout(\n",
        "    template=\"presentation\",\n",
        "    xaxis_title='Number of Delinquent Accounts',\n",
        "    yaxis_title='State',\n",
        "    margin=dict(l=250, r=50, t=50, b=50),\n",
        "    paper_bgcolor=\"rgba(0,0,0,0)\",\n",
        "    plot_bgcolor=\"rgba(0,0,0,0)\",\n",
        "    xaxis=dict(showgrid=False),\n",
        "    yaxis=dict(showgrid=False)\n",
        ")\n",
        "\n",
        "fig.update_traces(textposition='inside')\n",
        "fig.write_image(os.path.join(results_dir, 'Delinquent_Accounts_by_State.jpg'))\n",
        "fig.write_image(os.path.join(results_dir, 'Delinquent_Accounts_by_State.png'))\n",
        "fig.write_html(os.path.join(results_dir, 'Delinquent_Accounts_by_State.html'))\n",
        "\n",
        "fig.show()"
      ],
      "id": "eacf3f20",
      "execution_count": null,
      "outputs": []
    },
    {
      "cell_type": "markdown",
      "metadata": {},
      "source": [
        "This bar chart highlights the states with the most delinquent accounts. It is useful for regional risk assessment and credit policy adjustments.\n",
        "Ney York (154), California (145), and Texas (144) lead in delinquencies.\n",
        "\n",
        "Implication: Higher-risk regions may need targeted collection strategies.\n",
        "\n",
        "## Customer Count by Satisfaction Level"
      ],
      "id": "408313a9"
    },
    {
      "cell_type": "code",
      "metadata": {},
      "source": [
        "#| echo: false\n",
        "#| output: false\n",
        "funnel_df = merged_df.groupby('Cust_Satisfaction_Score')['Client_Num'].count().reset_index(name='customer_count')\n",
        "funnel_df = funnel_df.sort_values(by='customer_count', ascending=False)\n",
        "funnel_df"
      ],
      "id": "31080996",
      "execution_count": null,
      "outputs": []
    },
    {
      "cell_type": "code",
      "metadata": {},
      "source": [
        "#| echo: false\n",
        "#| output: false\n",
        "total_customers = funnel_df['customer_count'].sum()\n",
        "funnel_df['percentage'] = (funnel_df['customer_count'] / total_customers) * 100\n",
        "funnel_df"
      ],
      "id": "ce918404",
      "execution_count": null,
      "outputs": []
    },
    {
      "cell_type": "code",
      "metadata": {},
      "source": [
        "import plotly.express as px\n",
        "\n",
        "# Group and sort\n",
        "bar_df = merged_df.groupby('Cust_Satisfaction_Score')['Client_Num'].count().reset_index(name='customer_count')\n",
        "bar_df = bar_df.sort_values(by='customer_count', ascending = False)\n",
        "\n",
        "# Plot\n",
        "fig = px.bar(\n",
        "    bar_df,\n",
        "    x='Cust_Satisfaction_Score',\n",
        "    y='customer_count',\n",
        "    text='customer_count',\n",
        "    title='Customer Count by Satisfaction Level',\n",
        "    labels={'Cust_Satisfaction_Score': 'Satisfaction Score', 'customer_count': 'Number of Customers'},\n",
        "    color_discrete_sequence=[\"#002366\"]\n",
        ")\n",
        "\n",
        "fig.update_traces(textposition='outside')\n",
        "fig.update_layout(\n",
        "    template=\"presentation\",\n",
        "    bargap=0.4,\n",
        "    bargroupgap=0.2, \n",
        "    margin=dict(l=60, r=50, t=50, b=150),\n",
        "    paper_bgcolor=\"rgba(0,0,0,0)\",\n",
        "    plot_bgcolor=\"rgba(0,0,0,0)\",\n",
        "    height=700,\n",
        "    width=1100,\n",
        "    xaxis=dict(showgrid=False),\n",
        "    yaxis=dict(showgrid=False)\n",
        ")\n",
        "\n",
        "# Save\n",
        "fig.write_image(os.path.join(results_dir, 'Customer_Count_by_Satisfaction_Bar.jpg'))\n",
        "fig.write_image(os.path.join(results_dir, 'Customer_Count_by_Satisfaction_Bar.png'))\n",
        "fig.write_html(os.path.join(results_dir, 'Customer_Count_by_Satisfaction_Bar.html'))\n",
        "\n",
        "fig.show()"
      ],
      "id": "c7fbc0ba",
      "execution_count": null,
      "outputs": []
    },
    {
      "cell_type": "markdown",
      "metadata": {},
      "source": [
        "This chart shows how many customers fall into different satisfaction levels (1-5). It’s important for customer experience evaluation and service improvement.\n",
        "Most customers cluster around mid-range satisfaction (scores 3–4), with ~2099–3088 customers.\n",
        "Fewer extremes (very satisfied/dissatisfied).\n",
        "\n",
        "Implication: Service improvements could target mid-range scorers to boost loyalty.\n",
        "\n",
        "## Customer Occupation Breakdown"
      ],
      "id": "dbebf3f0"
    },
    {
      "cell_type": "code",
      "metadata": {},
      "source": [
        "#| echo: false\n",
        "#| output: false\n",
        "job_df = merged_df.groupby('Customer_Job')['Client_Num'].count().reset_index(name='customer_count')\n",
        "job_df = job_df.sort_values(by='customer_count', ascending=False)\n",
        "job_df"
      ],
      "id": "44afec09",
      "execution_count": null,
      "outputs": []
    },
    {
      "cell_type": "code",
      "metadata": {},
      "source": [
        "#| echo: false\n",
        "#| output: false\n",
        "total_jobs = job_df['customer_count'].sum()\n",
        "job_df['percentage'] = (job_df['customer_count'] / total_jobs) * 100\n",
        "job_df"
      ],
      "id": "74197e47",
      "execution_count": null,
      "outputs": []
    },
    {
      "cell_type": "code",
      "metadata": {},
      "source": [
        "fig = px.bar(\n",
        "    job_df,\n",
        "    x='Customer_Job',\n",
        "    y='percentage',\n",
        "    title='Customer Occupation Breakdown (%)',\n",
        "    height=700,\n",
        "    width=1100,\n",
        "    color_discrete_sequence=['#002366'],\n",
        "    text='percentage'\n",
        ")\n",
        "\n",
        "fig.update_layout(\n",
        "    template=\"presentation\",\n",
        "    xaxis_title=\"Customer Job\",\n",
        "    yaxis_title=\"Percentage of Customers\",\n",
        "    bargap=0.4,\n",
        "    bargroupgap=0.2,\n",
        "    margin=dict(l=60, r=50, t=50, b=150),\n",
        "    paper_bgcolor=\"rgba(0,0,0,0)\",\n",
        "    plot_bgcolor=\"rgba(0,0,0,0)\",\n",
        "    xaxis=dict(showgrid=False),\n",
        "    yaxis=dict(showgrid=False)\n",
        ")\n",
        "\n",
        "fig.update_traces(\n",
        "    texttemplate=\"%{text:.2f}%\",\n",
        "    textposition=\"outside\",\n",
        "    marker_line_width=0\n",
        ")\n",
        "\n",
        "fig.write_image(os.path.join(results_dir, 'Customer_Job_Breakdown.jpg'))\n",
        "fig.write_image(os.path.join(results_dir, 'Customer_Job_Breakdown.png'))\n",
        "fig.write_html(os.path.join(results_dir, 'Customer_Job_Breakdown.html'))\n",
        "\n",
        "fig.show()"
      ],
      "id": "00de8010",
      "execution_count": null,
      "outputs": []
    },
    {
      "cell_type": "markdown",
      "metadata": {},
      "source": [
        "This chart presents the percentage distribution of customers across different job types. It helps in profiling the customer base and targeting services based on occupation-related income stability\n",
        "Top occupations: \"SelfEmployed\" (25.47%), BusinessMan (18.81%), blue-collar (15.62%).\n"
      ],
      "id": "176f45f4"
    }
  ],
  "metadata": {
    "kernelspec": {
      "name": "python3",
      "language": "python",
      "display_name": "Python 3 (ipykernel)",
      "path": "C:\\Users\\user\\anaconda3\\share\\jupyter\\kernels\\python3"
    }
  },
  "nbformat": 4,
  "nbformat_minor": 5
}